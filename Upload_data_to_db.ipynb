{
 "cells": [
  {
   "cell_type": "code",
   "execution_count": 1,
   "id": "6295f161",
   "metadata": {},
   "outputs": [],
   "source": [
    "import pandas as pd\n",
    "import cx_Oracle\n",
    "cx_Oracle.init_oracle_client(lib_dir=r\"C:\\oracle\\instantclient_21_3\") # <- INSERT YOUR ORA-CLIENT's PATH HERE"
   ]
  },
  {
   "cell_type": "code",
   "execution_count": 94,
   "id": "9c7e0041",
   "metadata": {},
   "outputs": [],
   "source": [
    "df = pd.read_excel('transactions_01052020.xlsx') # <- INSERT SRC_FILE_NAME HERE"
   ]
  },
  {
   "cell_type": "code",
   "execution_count": 95,
   "id": "b3fe103a",
   "metadata": {},
   "outputs": [],
   "source": [
    "connection = cx_Oracle.connect(user=\"%USER_NAME\",\\\n",
    "                               password=\"%PASSWORD\",\\\n",
    "                               dsn=\"52.232.35.158:1521/dereboot\") # <- INSERT YOUR LOGIN/PASSWORD HERE\n",
    "cursor = connection.cursor()\n",
    "insert_table = \"INSERT INTO src_transactions VALUES (:1,:2,:3,:4,:5,:6,:7,:8,:9,:10,:11,:12,:13,:14,:15,:16,:17,:18,:19,:20)\"\n",
    "df_list = df.fillna('').values.tolist() \n",
    "cursor.executemany(insert_table,df_list)    \n",
    "cursor.close()\n",
    "connection.commit()\n",
    "connection.close()"
   ]
  },
  {
   "cell_type": "code",
   "execution_count": null,
   "id": "0130b2da",
   "metadata": {},
   "outputs": [],
   "source": []
  }
 ],
 "metadata": {
  "kernelspec": {
   "display_name": "Python 3",
   "language": "python",
   "name": "python3"
  },
  "language_info": {
   "codemirror_mode": {
    "name": "ipython",
    "version": 3
   },
   "file_extension": ".py",
   "mimetype": "text/x-python",
   "name": "python",
   "nbconvert_exporter": "python",
   "pygments_lexer": "ipython3",
   "version": "3.8.8"
  }
 },
 "nbformat": 4,
 "nbformat_minor": 5
}
